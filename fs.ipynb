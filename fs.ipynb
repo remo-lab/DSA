{
 "cells": [
  {
   "cell_type": "code",
   "execution_count": null,
   "id": "f3abd803",
   "metadata": {},
   "outputs": [],
   "source": [
    "def fs(arr1,arr2):\n",
    "    "
   ]
  },
  {
   "cell_type": "markdown",
   "id": "94beb49c",
   "metadata": {},
   "source": []
  }
 ],
 "metadata": {
  "language_info": {
   "name": "python"
  }
 },
 "nbformat": 4,
 "nbformat_minor": 5
}
