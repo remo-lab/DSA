{
 "cells": [
  {
   "cell_type": "code",
   "execution_count": 12,
   "id": "b1f39480",
   "metadata": {},
   "outputs": [
    {
     "name": "stdout",
     "output_type": "stream",
     "text": [
      "[1, 3, 3, 4, 4, 5, 5, 6, 7]\n"
     ]
    }
   ],
   "source": [
    "def fs(arr1,arr2,m,n):\n",
    "    i=0\n",
    "    j=0\n",
    "    p=0\n",
    "    arr3=arr1[:m]\n",
    "    while i < m and j <n:\n",
    "        if arr3[i]<=arr2[j]:\n",
    "            arr1[p]=arr3[i]\n",
    "            i+=1\n",
    "        else:\n",
    "            arr1[p]=arr2[j]\n",
    "            j+=1\n",
    "        p+=1\n",
    "    while j<n:\n",
    "        arr1[p]=arr2[j]\n",
    "        j+=1\n",
    "        p+=1\n",
    "    while i<m:\n",
    "        arr1[p]=arr3[i]\n",
    "        i+=1\n",
    "        p+=1\n",
    "    return arr1\n",
    "\n",
    "\n",
    "print(fs([3,4,5,6,7,0,0,0,0],[1,3,4,5],5,4))\n",
    "    \n",
    "\n",
    "        \n"
   ]
  }
 ],
 "metadata": {
  "kernelspec": {
   "display_name": "Python 3",
   "language": "python",
   "name": "python3"
  },
  "language_info": {
   "codemirror_mode": {
    "name": "ipython",
    "version": 3
   },
   "file_extension": ".py",
   "mimetype": "text/x-python",
   "name": "python",
   "nbconvert_exporter": "python",
   "pygments_lexer": "ipython3",
   "version": "3.11.9"
  }
 },
 "nbformat": 4,
 "nbformat_minor": 5
}
