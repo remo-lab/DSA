{
 "cells": [
  {
   "cell_type": "code",
   "execution_count": 2,
   "id": "f3abd803",
   "metadata": {},
   "outputs": [
    {
     "data": {
      "text/plain": [
       "[1, 3, 3, 4, 5, 5, 6, 7]"
      ]
     },
     "execution_count": 2,
     "metadata": {},
     "output_type": "execute_result"
    }
   ],
   "source": [
    "def fs(arr1,arr2,m,n):\n",
    "    i= m-1\n",
    "    j=n-1\n",
    "    p=len(arr1)-1\n",
    "    while i>=0 and j>=0:\n",
    "        if arr1[i]>arr2[j]:\n",
    "            arr1[p]=arr1[i]\n",
    "            i-=1\n",
    "        else:\n",
    "            arr1[p]=arr2[j]\n",
    "            j-=1\n",
    "        p-=1\n",
    "    for k in range(p+1):\n",
    "        arr1[k]=arr2[k]\n",
    "    return arr1\n",
    "fs([3,4,5,6,0,0,0,0],[1,3,5,7],4,4)\n",
    "\n"
   ]
  },
  {
   "cell_type": "markdown",
   "id": "94beb49c",
   "metadata": {},
   "source": []
  }
 ],
 "metadata": {
  "kernelspec": {
   "display_name": "Python 3",
   "language": "python",
   "name": "python3"
  },
  "language_info": {
   "codemirror_mode": {
    "name": "ipython",
    "version": 3
   },
   "file_extension": ".py",
   "mimetype": "text/x-python",
   "name": "python",
   "nbconvert_exporter": "python",
   "pygments_lexer": "ipython3",
   "version": "3.11.9"
  }
 },
 "nbformat": 4,
 "nbformat_minor": 5
}
